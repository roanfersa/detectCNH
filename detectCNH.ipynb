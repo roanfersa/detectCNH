{
  "nbformat": 4,
  "nbformat_minor": 0,
  "metadata": {
    "colab": {
      "provenance": [],
      "collapsed_sections": [
        "sn-odSRJhcq3"
      ],
      "authorship_tag": "ABX9TyP3AFmtXrjAXUDdQ8cT0cAu",
      "include_colab_link": true
    },
    "kernelspec": {
      "name": "python3",
      "display_name": "Python 3"
    },
    "language_info": {
      "name": "python"
    }
  },
  "cells": [
    {
      "cell_type": "markdown",
      "metadata": {
        "id": "view-in-github",
        "colab_type": "text"
      },
      "source": [
        "<a href=\"https://colab.research.google.com/github/roanfersa/detectCNH/blob/main/detectCNH.ipynb\" target=\"_parent\"><img src=\"https://colab.research.google.com/assets/colab-badge.svg\" alt=\"Open In Colab\"/></a>"
      ]
    },
    {
      "cell_type": "markdown",
      "source": [
        "\n",
        "\n",
        "---\n",
        "\n",
        "\n",
        "# **INSTALANDO AS FERRAMENTAS QUE SERÃO UTILIZADAS**\n",
        "\n",
        "\n",
        "---\n",
        "\n"
      ],
      "metadata": {
        "id": "q1nXlAM5u5Yc"
      }
    },
    {
      "cell_type": "code",
      "execution_count": 37,
      "metadata": {
        "id": "ZIH-zlkoSpFl"
      },
      "outputs": [],
      "source": [
        "!pip install -q google-generativeai requests PyPDF2 pdf2image\n",
        "!apt-get install -y -q poppler-utils > /dev/null 2>&1\n",
        "\n",
        "\n",
        "\n"
      ]
    },
    {
      "cell_type": "markdown",
      "source": [
        "\n",
        "\n",
        "---\n",
        "\n",
        "\n",
        "#**IMPORTANDO TODAS AS BIBLIOTECAS QUE SERÃO UTILIZADAS**\n",
        "\n",
        "\n",
        "---\n",
        "\n"
      ],
      "metadata": {
        "id": "e4bNiE0ccpKk"
      }
    },
    {
      "cell_type": "code",
      "source": [
        "import pathlib\n",
        "import re\n",
        "import PyPDF2\n",
        "import textwrap\n",
        "import requests\n",
        "import PIL.Image\n",
        "import json\n",
        "import google.generativeai as genai\n",
        "from google.colab import userdata, files\n",
        "from IPython.display import display\n",
        "from IPython.display import Markdown\n",
        "from pathlib import Path\n",
        "from pdf2image import convert_from_path\n",
        "\n",
        "\n"
      ],
      "metadata": {
        "id": "VD9SNn140ijS"
      },
      "execution_count": 38,
      "outputs": []
    },
    {
      "cell_type": "markdown",
      "source": [
        "\n",
        "\n",
        "---\n",
        "\n",
        "\n",
        "# **DEFININDO FUNÇÕES DE TEXTO E DE VERIFICAÇÃO DE CPF**\n",
        "\n",
        "\n",
        "---\n",
        "\n"
      ],
      "metadata": {
        "id": "h6M4eTUmdQN8"
      }
    },
    {
      "cell_type": "code",
      "source": [
        "def to_markdown(text):\n",
        "  text = text.replace('•', '  *')\n",
        "  return Markdown(textwrap.indent(text, '> ', predicate=lambda _: True))\n",
        "\n",
        "def verificar_cpf_usuario(nome, x_cpf_usuario):\n",
        "    # Verificar o formato do CPF usando uma expressão regular para o formato XXX.XXX.XXX-XX\n",
        "    formato_correto = re.match(r'^\\d{3}\\.\\d{3}\\.\\d{3}-\\d{2}$', x_cpf_usuario)\n",
        "    # Extrair apenas os dígitos para verificar a contagem\n",
        "    digitos_cpf = re.sub(r'\\D', '', x_cpf_usuario)  # Remove tudo que não é dígito\n",
        "\n",
        "    # Verificar ambas as condições: formato correto e contagem de dígitos\n",
        "    if formato_correto and len(digitos_cpf) == 11:\n",
        "        return (True, f\"\\nObrigado por fornecer suas informações, {nome}. Os dados foram preenchidos corretamente. Vamos iniciar o processo de validação da CNH.\")\n",
        "    else:\n",
        "        return (False, \"Formato de CPF inválido. Por favor, insira o CPF no formato XXX.XXX.XXX-XX e certifique-se de que contém exatamente 11 dígitos numéricos.\")\n"
      ],
      "metadata": {
        "id": "VVV-Ecmrz6dd"
      },
      "execution_count": 39,
      "outputs": []
    },
    {
      "cell_type": "markdown",
      "source": [
        "\n",
        "\n",
        "---\n",
        "\n",
        "\n",
        "# **CONFIGURANDO O MODELO DO GOOGLE API GEMINI**\n",
        "\n",
        "\n",
        "---\n",
        "\n"
      ],
      "metadata": {
        "id": "m4ArbW-OdejB"
      }
    },
    {
      "cell_type": "code",
      "source": [
        "api_key = userdata.get('SECRET_KEY')\n",
        "genai.configure(api_key=api_key)"
      ],
      "metadata": {
        "id": "ydxLQpc304F_"
      },
      "execution_count": 40,
      "outputs": []
    },
    {
      "cell_type": "code",
      "source": [
        "# Configurações do modelo\n",
        "generation_config = {\n",
        "    \"temperature\": 1,\n",
        "    \"top_p\": 1,\n",
        "    \"top_k\": 0,\n",
        "}\n",
        "\n",
        "safety_settings ={\n",
        "    'HATE': 'BLOCK_NONE',\n",
        "    'HARASSMENT': 'BLOCK_NONE',\n",
        "    'SEXUAL' : 'BLOCK_NONE',\n",
        "    'DANGEROUS' : 'BLOCK_NONE'\n",
        "}\n",
        "\n",
        "# Instrução para o sistema\n",
        "system_instruction = \"Extraia dados críticos da imagem da CNH para verificação de autenticidade\"\n",
        "\n",
        "# Configurar o modelo de geração\n",
        "model = genai.GenerativeModel(model_name=\"gemini-pro-vision\",\n",
        "                              generation_config=generation_config,\n",
        "                              safety_settings=safety_settings)"
      ],
      "metadata": {
        "id": "5m4kadnz2gWa"
      },
      "execution_count": 41,
      "outputs": []
    },
    {
      "cell_type": "markdown",
      "source": [
        "\n",
        "\n",
        "---\n",
        "\n",
        "\n",
        "# **SOLICITANDO OS DADOS DO USUÁRIO PARA INICIAR A VERIFICAÇÃO**\n",
        "\n",
        "\n",
        "---\n",
        "\n"
      ],
      "metadata": {
        "id": "m4XQgBkKdslK"
      }
    },
    {
      "cell_type": "code",
      "source": [
        "print(\"Por favor, forneça as informações solicitadas abaixo para realizar a validação de autenticidade da CNH.\")\n",
        "\n",
        "# Solicitar o nome do usuário\n",
        "nome = input(\"Digite seu nome: \")\n",
        "\n",
        "while True:\n",
        "    # Solicitar o CPF do usuário e armazená-lo na variável x_cpf_usuario\n",
        "    x_cpf_usuario = input(\"Digite seu CPF no formato XXX.XXX.XXX-XX: \")\n",
        "\n",
        "    # Chamar a função verificar_cpf_usuario e imprimir o resultado\n",
        "    validado, mensagem = verificar_cpf_usuario(nome, x_cpf_usuario)\n",
        "    print(mensagem)\n",
        "\n",
        "    # Sair do loop se o CPF for válido\n",
        "    if validado:\n",
        "        break"
      ],
      "metadata": {
        "id": "Fh_T59x-8aKK",
        "colab": {
          "base_uri": "https://localhost:8080/"
        },
        "outputId": "a93623d9-f71d-422c-a12e-4329229bd1f9"
      },
      "execution_count": 7,
      "outputs": [
        {
          "output_type": "stream",
          "name": "stdout",
          "text": [
            "Por favor, forneça as informações solicitadas abaixo para realizar a validação de autenticidade da CNH.\n",
            "Digite seu nome: Roan Ferreira\n",
            "Digite seu CPF no formato XXX.XXX.XXX-XX: 27916031740\n",
            "Formato de CPF inválido. Por favor, insira o CPF no formato XXX.XXX.XXX-XX e certifique-se de que contém exatamente 11 dígitos numéricos.\n",
            "Digite seu CPF no formato XXX.XXX.XXX-XX: 279.160.317-40\n",
            "\n",
            "Obrigado por fornecer suas informações, Roan Ferreira. Os dados foram preenchidos corretamente. Vamos iniciar o processo de validação da CNH.\n"
          ]
        }
      ]
    },
    {
      "cell_type": "markdown",
      "source": [
        "\n",
        "---\n",
        "```\n",
        "Sobre o Upload da CNH\n",
        "```\n",
        " –– O upload da carteira CNH pode ser uma imagem ou arquivo.pdf ––\n",
        "\n",
        "Caso não tenha um arquivo de CNH para realizar a verificação\n",
        "\n",
        "Siga as instruções abaixo:\n",
        "\n",
        "```\n",
        "# 1. Vá até o projeto no Github\n",
        "# 2. Baixe os arquivos \"cnh_falsa_pinterest.jpg\" ou \"cnh_falsa_pinterest.pdf\" no seu pc\n",
        "#3. Continue abaixo.\n",
        "```\n",
        "\n",
        "Link do Projeto –> [GITHUB](https://github.com/roanfersa/detectCNH)\n",
        "---\n",
        "---\n",
        "\n",
        "\n",
        "# **SOLICITANDO O UPLOAD DO ARQUIVO CONTENDO A CNH**\n",
        "\n",
        "\n",
        "---\n"
      ],
      "metadata": {
        "id": "ZluErOXGeLUl"
      }
    },
    {
      "cell_type": "code",
      "source": [
        "print(\"Por favor, faça o upload da Carteira Nacional de Habilitação (CNH) que você queira verificar abaixo:  \\n\")\n",
        "uploaded = files.upload()  # Permite ao usuário fazer upload da imagem da CNH\n",
        "file_name = next(iter(uploaded))  # Pega o nome do arquivo\n",
        "file_path = '/content/' + file_name  # Monta o caminho completo do arquivo\n",
        "\n",
        "# Converter string para objeto Path para poder usar .suffix\n",
        "file_obt_path = Path(file_path)\n",
        "\n",
        "if file_obt_path.suffix.lower() == '.pdf':\n",
        "        # Se for um PDF, converter a primeira página em imagem\n",
        "        pagina01 = convert_from_path(file_path, last_page=1)[0]\n",
        "\n",
        "        # Salvar a primeira página como imagem\n",
        "        image_path = file_obt_path.parent / 'arquivo_1.jpg'\n",
        "        pagina01.save(image_path, 'JPEG')\n",
        "        print(f'Arquivo convertido em imagem carregado com sucesso e salvo em: {image_path}')\n",
        "        print(\"____________________________________________________________________________\\n \\n\")\n",
        "\n",
        "        # Abrir imagem com PIL e adicionar ao array de imagens abertas\n",
        "        open_image = PIL.Image.open(image_path)\n",
        "\n",
        "else:\n",
        "    print(\"Imagem carregada com sucesso!\")\n",
        "    open_image = PIL.Image.open(file_path)\n",
        "    print(\"\\n \\n____________________________________________________________________________\\n \\n\")\n",
        "\n",
        "\n",
        "\n",
        "\n",
        "response = model.generate_content([\"Responda se a imagem se trata de uma Carteira CNH Brasileira. Responda 'sim' ou 'não'.\", open_image])\n",
        "response = response.text\n",
        "if response.strip().lower() == 'não':\n",
        "  print(\"O arquivo enviado não corresponde a uma CNH. Portanto é inválido.\")\n",
        "\n",
        "else:\n",
        "  print(\"O arquivo enviado corresponde a uma CNH, podemos prosseguir com a validação de autenticidade.\")"
      ],
      "metadata": {
        "id": "WwUhRBEG-fkr",
        "outputId": "5b37805b-99ff-41e6-f760-2091031d60d0",
        "colab": {
          "base_uri": "https://localhost:8080/",
          "height": 194
        }
      },
      "execution_count": 8,
      "outputs": [
        {
          "output_type": "stream",
          "name": "stdout",
          "text": [
            "Por favor, faça o upload da Carteira Nacional de Habilitação (CNH) que você queira verificar abaixo:  \n",
            "\n"
          ]
        },
        {
          "output_type": "display_data",
          "data": {
            "text/plain": [
              "<IPython.core.display.HTML object>"
            ],
            "text/html": [
              "\n",
              "     <input type=\"file\" id=\"files-96129c84-0092-4d5a-83b2-f6807245f878\" name=\"files[]\" multiple disabled\n",
              "        style=\"border:none\" />\n",
              "     <output id=\"result-96129c84-0092-4d5a-83b2-f6807245f878\">\n",
              "      Upload widget is only available when the cell has been executed in the\n",
              "      current browser session. Please rerun this cell to enable.\n",
              "      </output>\n",
              "      <script>// Copyright 2017 Google LLC\n",
              "//\n",
              "// Licensed under the Apache License, Version 2.0 (the \"License\");\n",
              "// you may not use this file except in compliance with the License.\n",
              "// You may obtain a copy of the License at\n",
              "//\n",
              "//      http://www.apache.org/licenses/LICENSE-2.0\n",
              "//\n",
              "// Unless required by applicable law or agreed to in writing, software\n",
              "// distributed under the License is distributed on an \"AS IS\" BASIS,\n",
              "// WITHOUT WARRANTIES OR CONDITIONS OF ANY KIND, either express or implied.\n",
              "// See the License for the specific language governing permissions and\n",
              "// limitations under the License.\n",
              "\n",
              "/**\n",
              " * @fileoverview Helpers for google.colab Python module.\n",
              " */\n",
              "(function(scope) {\n",
              "function span(text, styleAttributes = {}) {\n",
              "  const element = document.createElement('span');\n",
              "  element.textContent = text;\n",
              "  for (const key of Object.keys(styleAttributes)) {\n",
              "    element.style[key] = styleAttributes[key];\n",
              "  }\n",
              "  return element;\n",
              "}\n",
              "\n",
              "// Max number of bytes which will be uploaded at a time.\n",
              "const MAX_PAYLOAD_SIZE = 100 * 1024;\n",
              "\n",
              "function _uploadFiles(inputId, outputId) {\n",
              "  const steps = uploadFilesStep(inputId, outputId);\n",
              "  const outputElement = document.getElementById(outputId);\n",
              "  // Cache steps on the outputElement to make it available for the next call\n",
              "  // to uploadFilesContinue from Python.\n",
              "  outputElement.steps = steps;\n",
              "\n",
              "  return _uploadFilesContinue(outputId);\n",
              "}\n",
              "\n",
              "// This is roughly an async generator (not supported in the browser yet),\n",
              "// where there are multiple asynchronous steps and the Python side is going\n",
              "// to poll for completion of each step.\n",
              "// This uses a Promise to block the python side on completion of each step,\n",
              "// then passes the result of the previous step as the input to the next step.\n",
              "function _uploadFilesContinue(outputId) {\n",
              "  const outputElement = document.getElementById(outputId);\n",
              "  const steps = outputElement.steps;\n",
              "\n",
              "  const next = steps.next(outputElement.lastPromiseValue);\n",
              "  return Promise.resolve(next.value.promise).then((value) => {\n",
              "    // Cache the last promise value to make it available to the next\n",
              "    // step of the generator.\n",
              "    outputElement.lastPromiseValue = value;\n",
              "    return next.value.response;\n",
              "  });\n",
              "}\n",
              "\n",
              "/**\n",
              " * Generator function which is called between each async step of the upload\n",
              " * process.\n",
              " * @param {string} inputId Element ID of the input file picker element.\n",
              " * @param {string} outputId Element ID of the output display.\n",
              " * @return {!Iterable<!Object>} Iterable of next steps.\n",
              " */\n",
              "function* uploadFilesStep(inputId, outputId) {\n",
              "  const inputElement = document.getElementById(inputId);\n",
              "  inputElement.disabled = false;\n",
              "\n",
              "  const outputElement = document.getElementById(outputId);\n",
              "  outputElement.innerHTML = '';\n",
              "\n",
              "  const pickedPromise = new Promise((resolve) => {\n",
              "    inputElement.addEventListener('change', (e) => {\n",
              "      resolve(e.target.files);\n",
              "    });\n",
              "  });\n",
              "\n",
              "  const cancel = document.createElement('button');\n",
              "  inputElement.parentElement.appendChild(cancel);\n",
              "  cancel.textContent = 'Cancel upload';\n",
              "  const cancelPromise = new Promise((resolve) => {\n",
              "    cancel.onclick = () => {\n",
              "      resolve(null);\n",
              "    };\n",
              "  });\n",
              "\n",
              "  // Wait for the user to pick the files.\n",
              "  const files = yield {\n",
              "    promise: Promise.race([pickedPromise, cancelPromise]),\n",
              "    response: {\n",
              "      action: 'starting',\n",
              "    }\n",
              "  };\n",
              "\n",
              "  cancel.remove();\n",
              "\n",
              "  // Disable the input element since further picks are not allowed.\n",
              "  inputElement.disabled = true;\n",
              "\n",
              "  if (!files) {\n",
              "    return {\n",
              "      response: {\n",
              "        action: 'complete',\n",
              "      }\n",
              "    };\n",
              "  }\n",
              "\n",
              "  for (const file of files) {\n",
              "    const li = document.createElement('li');\n",
              "    li.append(span(file.name, {fontWeight: 'bold'}));\n",
              "    li.append(span(\n",
              "        `(${file.type || 'n/a'}) - ${file.size} bytes, ` +\n",
              "        `last modified: ${\n",
              "            file.lastModifiedDate ? file.lastModifiedDate.toLocaleDateString() :\n",
              "                                    'n/a'} - `));\n",
              "    const percent = span('0% done');\n",
              "    li.appendChild(percent);\n",
              "\n",
              "    outputElement.appendChild(li);\n",
              "\n",
              "    const fileDataPromise = new Promise((resolve) => {\n",
              "      const reader = new FileReader();\n",
              "      reader.onload = (e) => {\n",
              "        resolve(e.target.result);\n",
              "      };\n",
              "      reader.readAsArrayBuffer(file);\n",
              "    });\n",
              "    // Wait for the data to be ready.\n",
              "    let fileData = yield {\n",
              "      promise: fileDataPromise,\n",
              "      response: {\n",
              "        action: 'continue',\n",
              "      }\n",
              "    };\n",
              "\n",
              "    // Use a chunked sending to avoid message size limits. See b/62115660.\n",
              "    let position = 0;\n",
              "    do {\n",
              "      const length = Math.min(fileData.byteLength - position, MAX_PAYLOAD_SIZE);\n",
              "      const chunk = new Uint8Array(fileData, position, length);\n",
              "      position += length;\n",
              "\n",
              "      const base64 = btoa(String.fromCharCode.apply(null, chunk));\n",
              "      yield {\n",
              "        response: {\n",
              "          action: 'append',\n",
              "          file: file.name,\n",
              "          data: base64,\n",
              "        },\n",
              "      };\n",
              "\n",
              "      let percentDone = fileData.byteLength === 0 ?\n",
              "          100 :\n",
              "          Math.round((position / fileData.byteLength) * 100);\n",
              "      percent.textContent = `${percentDone}% done`;\n",
              "\n",
              "    } while (position < fileData.byteLength);\n",
              "  }\n",
              "\n",
              "  // All done.\n",
              "  yield {\n",
              "    response: {\n",
              "      action: 'complete',\n",
              "    }\n",
              "  };\n",
              "}\n",
              "\n",
              "scope.google = scope.google || {};\n",
              "scope.google.colab = scope.google.colab || {};\n",
              "scope.google.colab._files = {\n",
              "  _uploadFiles,\n",
              "  _uploadFilesContinue,\n",
              "};\n",
              "})(self);\n",
              "</script> "
            ]
          },
          "metadata": {}
        },
        {
          "output_type": "stream",
          "name": "stdout",
          "text": [
            "Saving Foto CNH _ PDF.pdf to Foto CNH _ PDF (6).pdf\n",
            "Arquivo convertido em imagem carregado com sucesso e salvo em: /content/arquivo_1.jpg\n",
            "____________________________________________________________________________\n",
            " \n",
            "\n",
            "O arquivo enviado corresponde a uma CNH, podemos prosseguir com a validação de autenticidade.\n"
          ]
        }
      ]
    },
    {
      "cell_type": "markdown",
      "source": [
        "\n",
        "\n",
        "---\n",
        "\n",
        "\n",
        "# **Extração dos Dados da CNH e FORMATAÇÃO PARA ENVIO AO DENATRAN**\n",
        "---"
      ],
      "metadata": {
        "id": "PjGkiYXLhKwu"
      }
    },
    {
      "cell_type": "code",
      "source": [
        "extrair_info = model.generate_content([\"Capture na foto as informações: CPF, Número de Registro\", open_image])\n",
        "\n",
        "extrair_info = extrair_info.text\n",
        "\n",
        "# Usar expressões regulares para encontrar o CPF e o Número de Registro\n",
        "match_cpf = re.search(r'CPF: (\\d{3}\\.\\d{3}\\.\\d{3}-\\d{2})', extrair_info)\n",
        "match_numero_registro = re.search(r'Número de Registro: (\\d+)', extrair_info)\n",
        "\n",
        "# Armazenar os valores encontrados nas variáveis\n",
        "cpf_cnh = match_cpf.group(1) if match_cpf else 'CPF não encontrado'\n",
        "numero_registro_cnh = match_numero_registro.group(1) if match_numero_registro else 'Número de Registro não encontrado'\n",
        "\n",
        "print(\"DADOS EXTRAÍDOS E FORMATADOS COM SUCESSO:\")\n",
        "print(f'CPF –> {cpf_cnh}')\n",
        "print(f'Número de Registro –> {numero_registro_cnh}')"
      ],
      "metadata": {
        "id": "sv6Sa5-srK66",
        "colab": {
          "base_uri": "https://localhost:8080/",
          "height": 69
        },
        "outputId": "25a293ff-d2a1-4aa2-dc20-ccc629f598c9"
      },
      "execution_count": 9,
      "outputs": [
        {
          "output_type": "stream",
          "name": "stdout",
          "text": [
            "DADOS EXTRAÍDOS E FORMATADOS COM SUCESSO:\n",
            "CPF –> 098.352.184-04\n",
            "Número de Registro –> 05346893150\n"
          ]
        }
      ]
    },
    {
      "cell_type": "markdown",
      "source": [
        "\n",
        "\n",
        "---\n",
        "\n",
        "\n",
        "# **Para saber sobre a API do DENATRAN**\n",
        "\n",
        "SIGA AS INSTRUÇÕES:\n",
        "\n",
        "*   Baixe a documentação da API no Github do Projeto -> [Link do Github](https://github.com/roanfersa/detectCNH)\n",
        "*   Ou confira as informações direto no site oficial da API do DENATRAN -> [WSDenatran API - Veículos, Condutores e Infrações](https://www.gov.br/conecta/catalogo/apis/wsdenatran)\n",
        "\n",
        "Para usar a API do Denatran substitua no código abaixo abaixo:\n",
        "\n",
        "```\n",
        "# 1. O caminho do seu certificado digital\n",
        "# 2. O caminho da sua chave privada\n",
        "```\n",
        "\n",
        "\n",
        "\n",
        "**Atenção: –** Caso você não tenha os elementos acima ou não tenha conseguido acesso a API do DENATRAN por algum motivo. Faça o seguinte:\n",
        "\n",
        "```\n",
        "# 1. Vá no Github do Projeto\n",
        "# 2. Baixe o arquivo 'return_denatran_404.json' para simular um caso de CNH falsa e o arquivo return_denatran_200.json para simular um caso de CNH autêntica.\n",
        "# 3. Vá na secção files aqui no google colab, e faça o upload dos arquivos.\n",
        "# 4. Pule este bloco de código 'configuração de API', e continue de lá.\n",
        "```\n",
        "\n",
        "*p.s: o arquivo return_denatran_404.json contem o retorno da requisição da API do DENATRAN para a imagem de exemplo \"cnh_falsa_pinterest.jpg\" e \"cnh_falsa_pinterest.pdf\".*\n",
        "\n",
        "*Já o arquivo e return_denatran_200.json contem o retorno da requisição da API do DENATRAN porém as informações foram **modificadas** para preservar a segurança do proprietário*\n",
        "\n",
        "---\n",
        "\n",
        "\n",
        "\n",
        "# **CONFIGURAÇÃO DA API DO DENATRAN**\n",
        "---\n",
        "\n"
      ],
      "metadata": {
        "id": "sn-odSRJhcq3"
      }
    },
    {
      "cell_type": "code",
      "source": [
        "# URL da API do DENATRAN\n",
        "url = f'https://renavam.denatran.serpro.gov.br/v1/condutores/cpf/{cpf_cnh}/registroCnh/{numero_registro_cnh}'\n",
        "\n",
        "# Cabeçalhos\n",
        "headers = {\n",
        "    'x-cpf-usuario': x_cpf_usuario\n",
        "}\n",
        "\n",
        "# Certificado digital (ajuste o caminho para o seu certificado)\n",
        "certificado = ('caminho_para_certificado.crt', 'caminho_para_chave_privada.key')"
      ],
      "metadata": {
        "id": "4dF_2v6u7qan"
      },
      "execution_count": 42,
      "outputs": []
    },
    {
      "cell_type": "markdown",
      "source": [
        "\n",
        "\n",
        "---\n",
        "\n",
        "\n",
        "# **Usando a API do DENATRAN PARA VALIDAR A CNH – I**\n",
        "\n",
        "\n",
        "\n",
        "\n",
        "---\n",
        "\n"
      ],
      "metadata": {
        "id": "s9BHgq_3-Eo0"
      }
    },
    {
      "cell_type": "code",
      "source": [
        "# Fazer a requisição\n",
        "response = requests.get(url, headers=headers, cert=certificado)\n",
        "\n",
        "# Verificar o status da resposta\n",
        "if response.status_code == 200:\n",
        "    # Requisição bem-sucedida (OK)\n",
        "    print(\"Essa CNH é autêntica! Segue abaixo um resumo do condutor: \")\n",
        "elif response.status_code == 401:\n",
        "    # Não autorizado (Unauthorized)\n",
        "    print(\"Erro: Não autorizado. Verifique seu certificado digital.\")\n",
        "elif response.status_code == 404:\n",
        "    # Não encontrado (Not Found)\n",
        "    print(\"Erro: Condutor não encontrado na base de dados do Denatran.\")\n",
        "elif response.status_code == 500:\n",
        "    # Erro no servidor (Internal Server Error)\n",
        "    print(\"Erro: Ocorreu um erro no servidor do Denatran.\")\n",
        "else:\n",
        "    # Outros erros\n",
        "    print(f\"Erro na requisição: {response.status_code} - {response.text}\")"
      ],
      "metadata": {
        "id": "tYA1JZXU2Dgh"
      },
      "execution_count": null,
      "outputs": []
    },
    {
      "cell_type": "markdown",
      "source": [
        "---\n",
        "---\n",
        "\n",
        "\n",
        "# **Usando a API do DENATRAN PARA VALIDAR A CNH – II**\n",
        "\n",
        "\n",
        "\n",
        "\n",
        "---\n",
        "\n",
        "---"
      ],
      "metadata": {
        "id": "pMHXk_aZm9Gq"
      }
    },
    {
      "cell_type": "code",
      "source": [
        "# Abrir e ler o arquivo JSON local\n",
        "with open(\"/content/return_denatran_200.json\", \"r\") as file:       # with open(\"/content/return_denatran_404.json\", \"r\") as file: #-> use este código para rodar o return_denatran_200.json que é um caso de CNH Válida\n",
        "    response_json = json.load(file)\n",
        "\n",
        "# Simular o código de status (você pode ajustar conforme necessário)\n",
        "status_code = response_json.get('returnCode', 200)\n",
        "\n",
        "# Verificar o status da resposta\n",
        "if status_code == 200:\n",
        "    # Requisição bem-sucedida (OK)\n",
        "    print(\" Essa CNH é autêntica! Segue abaixo um resumo do condutor: \")\n",
        "elif status_code == 401:\n",
        "    # Não autorizado (Unauthorized)\n",
        "    print(\"Erro: Não autorizado. Verifique seu certificado digital.\")\n",
        "elif status_code == 404:\n",
        "    # Não encontrado (Not Found)\n",
        "    print(\"CNH não autêntica:\", response_json['message'])\n",
        "elif status_code == 500:\n",
        "    # Erro no servidor (Internal Server Error)\n",
        "    print(\"Erro: Ocorreu um erro no servidor do Denatran.\")\n",
        "else:\n",
        "    # Outros erros\n",
        "    print(f\"Erro na requisição: {status_code} - {response_json.get('message', 'Erro desconhecido')}\")\n",
        "\n",
        "if status_code == 200:\n",
        "  # Configurar o modelo com o Gemini 1.0 PRO\n",
        "    model = genai.GenerativeModel(model_name=\"gemini-pro\",\n",
        "                              generation_config=generation_config,\n",
        "                              safety_settings=safety_settings)\n",
        "  # Requisição ao Denatran bem-sucedida\n",
        "data_condutor = response_json\n",
        "\n",
        "# Dados do condutor já estão no dicionário data_condutor\n",
        "json_text = json.dumps(data_condutor, indent=4)  # Convertendo o dicionário em string JSON formatada\n",
        "\n",
        "prompt_gemini = f\"\"\"\n",
        "    Você é um assistente de IA que gera resumos de dados de condutores.\n",
        "\n",
        "    Aqui está um JSON contendo dados de um condutor do Denatran:\n",
        "    {json_text}\n",
        "\n",
        "    Gere um resumo informativo e objetivo contendo as informações mais relevantes sobre o condutor.\n",
        "    \"\"\"\n",
        "\n",
        "    # Enviar o prompt diretamente\n",
        "response_gemini = model.generate_content({prompt_gemini})\n",
        "\n",
        "    # Exibindo o resultado\n",
        "to_markdown(response_gemini.text)"
      ],
      "metadata": {
        "colab": {
          "base_uri": "https://localhost:8080/",
          "height": 498
        },
        "id": "gl-WbeBLm6XW",
        "outputId": "d1b1ab5a-c0f0-448a-d6cd-57d8f478e9cd"
      },
      "execution_count": 44,
      "outputs": [
        {
          "output_type": "stream",
          "name": "stdout",
          "text": [
            " Essa CNH é autêntica! Segue abaixo um resumo do condutor: \n"
          ]
        },
        {
          "output_type": "execute_result",
          "data": {
            "text/plain": [
              "<IPython.core.display.Markdown object>"
            ],
            "text/markdown": "> **Resumo de Dados do Condutor**\n> \n> **Nome:** Peterson Ferreira Canceler\n> **Data de Nascimento:** 19 de fevereiro de 1985\n> **CPF:** 160.723.657-29\n> **RG:** 160.723.419-25\n> **Sexo:** Masculino\n> **Nacionalidade:** Brasileira\n> \n> **Habilitação:**\n> \n> * **Data Primeira Habilitação:** 4 de agosto de 2008\n> * **UF Primeira Habilitação:** RJ\n> * **Categoria Atual:** AB\n> * **Categoria Autorizada:** A\n> * **Data Validade CNH:** 4 de agosto de 2025\n> * **UF Habilitação Atual:** RJ\n> \n> **Endereço:**\n> \n> * **Logradouro:** Rua Fulano de Tal\n> * **Número:** 123\n> * **Complemento:** Apartamento 456\n> * **Bairro:** Barrio\n> * **CEP:** 21210-123\n> * **Município:** Rio de Janeiro\n> * **UF:** RJ\n> \n> **Ocorrências:**\n> \n> * **Quantidade de Ocorrências Impeditivas:** 0\n> \n> **Restrições Médicas:**\n> \n> * Usa óculos"
          },
          "metadata": {},
          "execution_count": 44
        }
      ]
    }
  ]
}
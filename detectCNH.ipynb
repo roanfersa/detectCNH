{
  "nbformat": 4,
  "nbformat_minor": 0,
  "metadata": {
    "colab": {
      "provenance": [],
      "collapsed_sections": [
        "sn-odSRJhcq3"
      ],
      "authorship_tag": "ABX9TyNbGonMEP+10kXKWJu4tjZ3",
      "include_colab_link": true
    },
    "kernelspec": {
      "name": "python3",
      "display_name": "Python 3"
    },
    "language_info": {
      "name": "python"
    }
  },
  "cells": [
    {
      "cell_type": "markdown",
      "metadata": {
        "id": "view-in-github",
        "colab_type": "text"
      },
      "source": [
        "<a href=\"https://colab.research.google.com/github/roanfersa/detectCNH/blob/main/detectCNH.ipynb\" target=\"_parent\"><img src=\"https://colab.research.google.com/assets/colab-badge.svg\" alt=\"Open In Colab\"/></a>"
      ]
    },
    {
      "cell_type": "markdown",
      "source": [
        "# **INSTALANDO AS FERRAMENTAS QUE SERÃO UTILIZADAS**"
      ],
      "metadata": {
        "id": "q1nXlAM5u5Yc"
      }
    },
    {
      "cell_type": "code",
      "execution_count": 7,
      "metadata": {
        "id": "ZIH-zlkoSpFl"
      },
      "outputs": [],
      "source": [
        "!pip install -q google-generativeai requests PyPDF2 pdf2image\n",
        "!apt-get install -y -q poppler-utils > /dev/null 2>&1\n",
        "\n",
        "\n",
        "\n"
      ]
    },
    {
      "cell_type": "markdown",
      "source": [
        "#**IMPORTANDO TODAS AS BIBLIOTECAS QUE SERÃO UTILIZADAS**"
      ],
      "metadata": {
        "id": "e4bNiE0ccpKk"
      }
    },
    {
      "cell_type": "code",
      "source": [
        "import pathlib\n",
        "import re\n",
        "import PyPDF2\n",
        "import textwrap\n",
        "import requests\n",
        "import PIL.Image\n",
        "import json\n",
        "import google.generativeai as genai\n",
        "from google.colab import userdata, files\n",
        "from IPython.display import display\n",
        "from IPython.display import Markdown\n",
        "from pathlib import Path\n",
        "from pdf2image import convert_from_path\n",
        "\n",
        "\n"
      ],
      "metadata": {
        "id": "VD9SNn140ijS"
      },
      "execution_count": 8,
      "outputs": []
    },
    {
      "cell_type": "markdown",
      "source": [
        "# **DEFININDO FUNÇÕES**"
      ],
      "metadata": {
        "id": "h6M4eTUmdQN8"
      }
    },
    {
      "cell_type": "code",
      "source": [
        "def to_markdown(text):\n",
        "  text = text.replace('•', '  *')\n",
        "  return Markdown(textwrap.indent(text, '> ', predicate=lambda _: True))\n",
        "\n",
        "def verificar_cpf_usuario(nome, x_cpf_usuario):\n",
        "    # Verificar o formato do CPF usando uma expressão regular para o formato XXX.XXX.XXX-XX\n",
        "    formato_correto = re.match(r'^\\d{3}\\.\\d{3}\\.\\d{3}-\\d{2}$', x_cpf_usuario)\n",
        "    # Extrair apenas os dígitos para verificar a contagem\n",
        "    digitos_cpf = re.sub(r'\\D', '', x_cpf_usuario)  # Remove tudo que não é dígito\n",
        "\n",
        "    # Verificar ambas as condições: formato correto e contagem de dígitos\n",
        "    if formato_correto and len(digitos_cpf) == 11:\n",
        "        return (True, f\"\\nObrigado por fornecer suas informações, {nome}. Seu CPF é válido. Estamos processando a validação de autenticidade da sua CNH com base no CPF: {x_cpf_usuario}.\")\n",
        "    else:\n",
        "        return (False, \"Formato de CPF inválido. Por favor, insira o CPF no formato XXX.XXX.XXX-XX e certifique-se de que contém exatamente 11 dígitos numéricos.\")\n"
      ],
      "metadata": {
        "id": "VVV-Ecmrz6dd"
      },
      "execution_count": 11,
      "outputs": []
    },
    {
      "cell_type": "markdown",
      "source": [
        "# **CONFIGURANDO O MODELO DO GOOGLE API GEMINI**"
      ],
      "metadata": {
        "id": "m4ArbW-OdejB"
      }
    },
    {
      "cell_type": "code",
      "source": [
        "api_key = userdata.get('SECRET_KEY')\n",
        "genai.configure(api_key=api_key)"
      ],
      "metadata": {
        "id": "ydxLQpc304F_"
      },
      "execution_count": 12,
      "outputs": []
    },
    {
      "cell_type": "code",
      "source": [
        "# Configurações do modelo\n",
        "generation_config = {\n",
        "    \"temperature\": 1,\n",
        "    \"top_p\": 1,\n",
        "    \"top_k\": 0,\n",
        "}\n",
        "\n",
        "safety_settings ={\n",
        "    'HATE': 'BLOCK_NONE',\n",
        "    'HARASSMENT': 'BLOCK_NONE',\n",
        "    'SEXUAL' : 'BLOCK_NONE',\n",
        "    'DANGEROUS' : 'BLOCK_NONE'\n",
        "}\n",
        "\n",
        "# Instrução para o sistema\n",
        "system_instruction = \"Extraia dados críticos da imagem da CNH para verificação de autenticidade\"\n",
        "\n",
        "# Configurar o modelo de geração\n",
        "model = genai.GenerativeModel(model_name=\"gemini-pro-vision\",\n",
        "                              generation_config=generation_config,\n",
        "                              safety_settings=safety_settings)"
      ],
      "metadata": {
        "id": "5m4kadnz2gWa"
      },
      "execution_count": 13,
      "outputs": []
    },
    {
      "cell_type": "markdown",
      "source": [
        "# **SOLICITANDO OS DADOS DO USUÁRIO PARA INICIAR A VERIFICAÇÃO**"
      ],
      "metadata": {
        "id": "m4XQgBkKdslK"
      }
    },
    {
      "cell_type": "code",
      "source": [
        "print(\"Por favor, forneça as informações solicitadas abaixo para realizar a validação de autenticidade da CNH.\")\n",
        "\n",
        "# Solicitar o nome do usuário\n",
        "nome = input(\"Digite seu nome: \")\n",
        "\n",
        "while True:\n",
        "    # Solicitar o CPF do usuário e armazená-lo na variável x_cpf_usuario\n",
        "    x_cpf_usuario = input(\"Digite seu CPF no formato XXX.XXX.XXX-XX: \")\n",
        "\n",
        "    # Chamar a função verificar_cpf_usuario e imprimir o resultado\n",
        "    validado, mensagem = verificar_cpf_usuario(nome, x_cpf_usuario)\n",
        "    print(mensagem)\n",
        "\n",
        "    # Sair do loop se o CPF for válido\n",
        "    if validado:\n",
        "        break"
      ],
      "metadata": {
        "id": "Fh_T59x-8aKK",
        "colab": {
          "base_uri": "https://localhost:8080/"
        },
        "outputId": "336ad04e-ff6b-4b88-be02-7ee6f97bd1a4"
      },
      "execution_count": 14,
      "outputs": [
        {
          "output_type": "stream",
          "name": "stdout",
          "text": [
            "Por favor, forneça as informações solicitadas abaixo para realizar a validação de autenticidade da CNH.\n",
            "Digite seu nome: ROAN\n",
            "Digite seu CPF no formato XXX.XXX.XXX-XX: 179.660.217-50\n",
            "\n",
            "Obrigado por fornecer suas informações, ROAN. Seu CPF é válido. Estamos processando a validação de autenticidade da sua CNH com base no CPF: 179.660.217-50.\n"
          ]
        }
      ]
    },
    {
      "cell_type": "markdown",
      "source": [
        "# **SOLICITANDO O UPLOAD DO ARQUIVO CONTENDO A CNH**\n",
        "\n",
        "\n",
        "---\n",
        "\n",
        "```\n",
        "O upload da carteira CNH pode ser uma imagem ou arquivo.pdf\n",
        "```\n",
        "\n",
        "Caso não tenha um CNH para realizar a verificação utilize os arquivos no github \"cnh_falsa_pinterest.jpg\" ou \"cnh_falsa_pinterest.pdf\"\n",
        "\n",
        "Basta que você baixe-os para seu pc, e faça o upload aqui."
      ],
      "metadata": {
        "id": "ZluErOXGeLUl"
      }
    },
    {
      "cell_type": "code",
      "source": [
        "print(\"Por favor, faça o upload de uma imagem clara da Carteira Nacional de Habilitação (CNH) que você queira verificar abaixo.\")\n",
        "uploaded = files.upload()  # Permite ao usuário fazer upload da imagem da CNH\n",
        "file_name = next(iter(uploaded))  # Pega o nome do arquivo\n",
        "file_path = '/content/' + file_name  # Monta o caminho completo do arquivo\n",
        "\n",
        "# Converter string para objeto Path para poder usar .suffix\n",
        "file_obt_path = Path(file_path)\n",
        "\n",
        "if file_obt_path.suffix.lower() == '.pdf':\n",
        "        # Se for um PDF, converter a primeira página em imagem\n",
        "        pagina01 = convert_from_path(file_path, last_page=1)[0]\n",
        "\n",
        "        # Salvar a primeira página como imagem\n",
        "        image_path = file_obt_path.parent / 'arquivo_1.jpg'\n",
        "        pagina01.save(image_path, 'JPEG')\n",
        "        print(f'Primeira página salva como imagem em: {image_path}')\n",
        "\n",
        "        # Abrir imagem com PIL e adicionar ao array de imagens abertas\n",
        "        open_image = PIL.Image.open(image_path)\n",
        "\n",
        "else:\n",
        "    # Se for uma imagem, apenas abri-la com PIL e adicionar à lista\n",
        "    open_image = PIL.Image.open(file_path)\n"
      ],
      "metadata": {
        "id": "WwUhRBEG-fkr",
        "outputId": "63100195-4fa5-4a42-d5c8-ab0884892ada",
        "colab": {
          "base_uri": "https://localhost:8080/",
          "height": 90
        }
      },
      "execution_count": 15,
      "outputs": [
        {
          "output_type": "stream",
          "name": "stdout",
          "text": [
            "Por favor, faça o upload de uma imagem clara da Carteira Nacional de Habilitação (CNH) que você queira verificar abaixo.\n"
          ]
        },
        {
          "output_type": "display_data",
          "data": {
            "text/plain": [
              "<IPython.core.display.HTML object>"
            ],
            "text/html": [
              "\n",
              "     <input type=\"file\" id=\"files-46137c62-7bb7-4cee-9fe0-0984156bbb64\" name=\"files[]\" multiple disabled\n",
              "        style=\"border:none\" />\n",
              "     <output id=\"result-46137c62-7bb7-4cee-9fe0-0984156bbb64\">\n",
              "      Upload widget is only available when the cell has been executed in the\n",
              "      current browser session. Please rerun this cell to enable.\n",
              "      </output>\n",
              "      <script>// Copyright 2017 Google LLC\n",
              "//\n",
              "// Licensed under the Apache License, Version 2.0 (the \"License\");\n",
              "// you may not use this file except in compliance with the License.\n",
              "// You may obtain a copy of the License at\n",
              "//\n",
              "//      http://www.apache.org/licenses/LICENSE-2.0\n",
              "//\n",
              "// Unless required by applicable law or agreed to in writing, software\n",
              "// distributed under the License is distributed on an \"AS IS\" BASIS,\n",
              "// WITHOUT WARRANTIES OR CONDITIONS OF ANY KIND, either express or implied.\n",
              "// See the License for the specific language governing permissions and\n",
              "// limitations under the License.\n",
              "\n",
              "/**\n",
              " * @fileoverview Helpers for google.colab Python module.\n",
              " */\n",
              "(function(scope) {\n",
              "function span(text, styleAttributes = {}) {\n",
              "  const element = document.createElement('span');\n",
              "  element.textContent = text;\n",
              "  for (const key of Object.keys(styleAttributes)) {\n",
              "    element.style[key] = styleAttributes[key];\n",
              "  }\n",
              "  return element;\n",
              "}\n",
              "\n",
              "// Max number of bytes which will be uploaded at a time.\n",
              "const MAX_PAYLOAD_SIZE = 100 * 1024;\n",
              "\n",
              "function _uploadFiles(inputId, outputId) {\n",
              "  const steps = uploadFilesStep(inputId, outputId);\n",
              "  const outputElement = document.getElementById(outputId);\n",
              "  // Cache steps on the outputElement to make it available for the next call\n",
              "  // to uploadFilesContinue from Python.\n",
              "  outputElement.steps = steps;\n",
              "\n",
              "  return _uploadFilesContinue(outputId);\n",
              "}\n",
              "\n",
              "// This is roughly an async generator (not supported in the browser yet),\n",
              "// where there are multiple asynchronous steps and the Python side is going\n",
              "// to poll for completion of each step.\n",
              "// This uses a Promise to block the python side on completion of each step,\n",
              "// then passes the result of the previous step as the input to the next step.\n",
              "function _uploadFilesContinue(outputId) {\n",
              "  const outputElement = document.getElementById(outputId);\n",
              "  const steps = outputElement.steps;\n",
              "\n",
              "  const next = steps.next(outputElement.lastPromiseValue);\n",
              "  return Promise.resolve(next.value.promise).then((value) => {\n",
              "    // Cache the last promise value to make it available to the next\n",
              "    // step of the generator.\n",
              "    outputElement.lastPromiseValue = value;\n",
              "    return next.value.response;\n",
              "  });\n",
              "}\n",
              "\n",
              "/**\n",
              " * Generator function which is called between each async step of the upload\n",
              " * process.\n",
              " * @param {string} inputId Element ID of the input file picker element.\n",
              " * @param {string} outputId Element ID of the output display.\n",
              " * @return {!Iterable<!Object>} Iterable of next steps.\n",
              " */\n",
              "function* uploadFilesStep(inputId, outputId) {\n",
              "  const inputElement = document.getElementById(inputId);\n",
              "  inputElement.disabled = false;\n",
              "\n",
              "  const outputElement = document.getElementById(outputId);\n",
              "  outputElement.innerHTML = '';\n",
              "\n",
              "  const pickedPromise = new Promise((resolve) => {\n",
              "    inputElement.addEventListener('change', (e) => {\n",
              "      resolve(e.target.files);\n",
              "    });\n",
              "  });\n",
              "\n",
              "  const cancel = document.createElement('button');\n",
              "  inputElement.parentElement.appendChild(cancel);\n",
              "  cancel.textContent = 'Cancel upload';\n",
              "  const cancelPromise = new Promise((resolve) => {\n",
              "    cancel.onclick = () => {\n",
              "      resolve(null);\n",
              "    };\n",
              "  });\n",
              "\n",
              "  // Wait for the user to pick the files.\n",
              "  const files = yield {\n",
              "    promise: Promise.race([pickedPromise, cancelPromise]),\n",
              "    response: {\n",
              "      action: 'starting',\n",
              "    }\n",
              "  };\n",
              "\n",
              "  cancel.remove();\n",
              "\n",
              "  // Disable the input element since further picks are not allowed.\n",
              "  inputElement.disabled = true;\n",
              "\n",
              "  if (!files) {\n",
              "    return {\n",
              "      response: {\n",
              "        action: 'complete',\n",
              "      }\n",
              "    };\n",
              "  }\n",
              "\n",
              "  for (const file of files) {\n",
              "    const li = document.createElement('li');\n",
              "    li.append(span(file.name, {fontWeight: 'bold'}));\n",
              "    li.append(span(\n",
              "        `(${file.type || 'n/a'}) - ${file.size} bytes, ` +\n",
              "        `last modified: ${\n",
              "            file.lastModifiedDate ? file.lastModifiedDate.toLocaleDateString() :\n",
              "                                    'n/a'} - `));\n",
              "    const percent = span('0% done');\n",
              "    li.appendChild(percent);\n",
              "\n",
              "    outputElement.appendChild(li);\n",
              "\n",
              "    const fileDataPromise = new Promise((resolve) => {\n",
              "      const reader = new FileReader();\n",
              "      reader.onload = (e) => {\n",
              "        resolve(e.target.result);\n",
              "      };\n",
              "      reader.readAsArrayBuffer(file);\n",
              "    });\n",
              "    // Wait for the data to be ready.\n",
              "    let fileData = yield {\n",
              "      promise: fileDataPromise,\n",
              "      response: {\n",
              "        action: 'continue',\n",
              "      }\n",
              "    };\n",
              "\n",
              "    // Use a chunked sending to avoid message size limits. See b/62115660.\n",
              "    let position = 0;\n",
              "    do {\n",
              "      const length = Math.min(fileData.byteLength - position, MAX_PAYLOAD_SIZE);\n",
              "      const chunk = new Uint8Array(fileData, position, length);\n",
              "      position += length;\n",
              "\n",
              "      const base64 = btoa(String.fromCharCode.apply(null, chunk));\n",
              "      yield {\n",
              "        response: {\n",
              "          action: 'append',\n",
              "          file: file.name,\n",
              "          data: base64,\n",
              "        },\n",
              "      };\n",
              "\n",
              "      let percentDone = fileData.byteLength === 0 ?\n",
              "          100 :\n",
              "          Math.round((position / fileData.byteLength) * 100);\n",
              "      percent.textContent = `${percentDone}% done`;\n",
              "\n",
              "    } while (position < fileData.byteLength);\n",
              "  }\n",
              "\n",
              "  // All done.\n",
              "  yield {\n",
              "    response: {\n",
              "      action: 'complete',\n",
              "    }\n",
              "  };\n",
              "}\n",
              "\n",
              "scope.google = scope.google || {};\n",
              "scope.google.colab = scope.google.colab || {};\n",
              "scope.google.colab._files = {\n",
              "  _uploadFiles,\n",
              "  _uploadFilesContinue,\n",
              "};\n",
              "})(self);\n",
              "</script> "
            ]
          },
          "metadata": {}
        },
        {
          "output_type": "stream",
          "name": "stdout",
          "text": [
            "Saving Foto CNH _ PDF.jpeg to Foto CNH _ PDF.jpeg\n"
          ]
        }
      ]
    },
    {
      "cell_type": "markdown",
      "source": [
        "# **VERIFICANDO SE O ARQUIVO ENVIADO CORRESPONDE A UMA CNH USANDO O GEMINI VISION PRO**\n",
        "\n",
        "p.s: para garantir que o arquivo realmente se trata de uma CNH."
      ],
      "metadata": {
        "id": "Rlk0v9k4gl1X"
      }
    },
    {
      "cell_type": "code",
      "source": [
        "response = model.generate_content([\"Responda se a imagem se trata de uma Carteira CNH Brasileira. Responda 'sim' ou 'não'.\", open_image])\n",
        "response = response.text\n",
        "if response.strip().lower() == 'não':\n",
        "  print(\"Isso não é uma CNH, tente novamente\")\n",
        "\n",
        "else:\n",
        "  print(\"Esta foto é de uma CNH, podemos prosseguir com a análise.\")"
      ],
      "metadata": {
        "colab": {
          "base_uri": "https://localhost:8080/",
          "height": 34
        },
        "id": "eXTLip8HgZB9",
        "outputId": "43ad229e-82ce-49d0-ae89-8170f72f7892"
      },
      "execution_count": 16,
      "outputs": [
        {
          "output_type": "stream",
          "name": "stdout",
          "text": [
            "Esta foto é de uma CNH, podemos prosseguir com a análise.\n"
          ]
        }
      ]
    },
    {
      "cell_type": "markdown",
      "source": [
        "# **Extração dos Dados da CNH e FORMATAÇÃO PARA ENVIO AO DENATRAN**"
      ],
      "metadata": {
        "id": "PjGkiYXLhKwu"
      }
    },
    {
      "cell_type": "code",
      "source": [
        "extrair_info = model.generate_content([\"Capture na foto as informações: CPF, Número de Registro\", open_image])\n",
        "\n",
        "extrair_info = extrair_info.text\n",
        "\n",
        "# Usar expressões regulares para encontrar o CPF e o Número de Registro\n",
        "match_cpf = re.search(r'CPF: (\\d{3}\\.\\d{3}\\.\\d{3}-\\d{2})', extrair_info)\n",
        "match_numero_registro = re.search(r'Número de Registro: (\\d+)', extrair_info)\n",
        "\n",
        "# Armazenar os valores encontrados nas variáveis\n",
        "cpf_cnh = match_cpf.group(1) if match_cpf else 'CPF não encontrado'\n",
        "numero_registro_cnh = match_numero_registro.group(1) if match_numero_registro else 'Número de Registro não encontrado'\n",
        "\n",
        "print(\"DADOS EXTRAÍDOS E FORMATADOS COM SUCESSO:\")\n",
        "print(f'CPF –> {cpf_cnh}')\n",
        "print(f'Número de Registro –> {numero_registro_cnh}')"
      ],
      "metadata": {
        "id": "sv6Sa5-srK66",
        "colab": {
          "base_uri": "https://localhost:8080/",
          "height": 69
        },
        "outputId": "844786a0-b647-4ad5-8b49-5676b01ae510"
      },
      "execution_count": 22,
      "outputs": [
        {
          "output_type": "stream",
          "name": "stdout",
          "text": [
            "DADOS EXTRAÍDOS E FORMATADOS COM SUCESSO:\n",
            "CPF –> 098.352.184-04\n",
            "Número de Registro –> 05346893150\n"
          ]
        }
      ]
    },
    {
      "cell_type": "markdown",
      "source": [
        "# **CONFIGURAÇÃO DA API DO DENATRAN E VALIDAÇÃO DA CNH**\n",
        "\n",
        "Para saber sobre a API do DENATRAN\n",
        "\n",
        "\n",
        "*   Baixe a documentação da API no Github do Projeto -> Link do Github\n",
        "*   Ou confira as informações no site oficial da API do DENATRAN -> [WSDenatran API - Veículos, Condutores e Infrações](https://www.gov.br/conecta/catalogo/apis/wsdenatran)\n",
        "\n",
        "Para usar a API do Denatran substitua no código abaixo abaixo:\n",
        "\n",
        "```\n",
        "# 1. O caminho do seu certificado digital\n",
        "# 2. O caminho da sua chave privada\n",
        "```\n",
        "\n",
        "\n",
        "\n",
        "**Atenção: –** Caso você não tenha os elementos acima ou não tenha conseguido acesso a API do DENATRAN por algum motivo. Faça o seguinte:\n",
        "\n",
        "```\n",
        "# 1. Vá no Github do Projeto\n",
        "# 2. Baixe o arquivo 'return_denatran_404.json''\n",
        "# 3. Vá na secção files aqui no google colab, e faça o upload do arquivo.\n",
        "# 4. Pule este bloco de código, e continue de lá.\n",
        "```\n",
        "\n",
        "*p.s: o arquivo return_denatran_404.json contem o retorno da API do DENATRAN para a imagem de exemplo \"cnh_falsa_pinterest.jpg\" e \"cnh_falsa_pinterest.pdf\".*\n",
        "\n",
        "\n",
        "\n",
        "\n",
        "\n",
        "\n",
        "---\n",
        "\n"
      ],
      "metadata": {
        "id": "sn-odSRJhcq3"
      }
    },
    {
      "cell_type": "code",
      "source": [
        "# URL da API do DENATRAN\n",
        "url = f'https://renavam.denatran.serpro.gov.br/v1/condutores/cpf/{cpf_cnh}/registroCnh/{numero_registro_cnh}'\n",
        "\n",
        "# Cabeçalhos\n",
        "headers = {\n",
        "    'x-cpf-usuario': x_cpf_usuario\n",
        "}\n",
        "\n",
        "# Certificado digital (ajuste o caminho para o seu certificado)\n",
        "certificado = ('caminho_para_certificado.crt', 'caminho_para_chave_privada.key')\n",
        "\n",
        "# Fazer a requisição\n",
        "response = requests.get(url, headers=headers, cert=certificado)\n",
        "\n",
        "# Verificar o status da resposta\n",
        "if response.status_code == 200:\n",
        "    # Requisição bem-sucedida (OK)\n",
        "    print(\"Sucesso! Dados do condutor:\", response.json())\n",
        "elif response.status_code == 401:\n",
        "    # Não autorizado (Unauthorized)\n",
        "    print(\"Erro: Não autorizado. Verifique seu certificado digital.\")\n",
        "elif response.status_code == 404:\n",
        "    # Não encontrado (Not Found)\n",
        "    print(\"Erro: Condutor não encontrado na base de dados do Denatran.\")\n",
        "elif response.status_code == 500:\n",
        "    # Erro no servidor (Internal Server Error)\n",
        "    print(\"Erro: Ocorreu um erro no servidor do Denatran.\")\n",
        "else:\n",
        "    # Outros erros\n",
        "    print(f\"Erro na requisição: {response.status_code} - {response.text}\")"
      ],
      "metadata": {
        "id": "tYA1JZXU2Dgh"
      },
      "execution_count": null,
      "outputs": []
    },
    {
      "cell_type": "markdown",
      "source": [
        "# **VALIDAÇÃO DA CNH COM JSON LOCAL E VALIDAÇÃO DA CNH**"
      ],
      "metadata": {
        "id": "pMHXk_aZm9Gq"
      }
    },
    {
      "cell_type": "code",
      "source": [
        "# Abrir e ler o arquivo JSON local\n",
        "with open(\"/content/return_denatran_404.json\", \"r\") as file:       # with open(\"/content/return_denatran_200.json\", \"r\") as file: #-> use este código para rodar o return_denatran_200.json que é um caso de CNH Válida\n",
        "    response_json = json.load(file)\n",
        "\n",
        "# Simular o código de status (você pode ajustar conforme necessário)\n",
        "status_code = response_json.get('returnCode', 200)\n",
        "\n",
        "# Verificar o status da resposta\n",
        "if status_code == 200:\n",
        "    # Requisição bem-sucedida (OK)\n",
        "    print(\" Essa CNH é autêntica! Segue abaixo um resumo do condutor: \")\n",
        "elif status_code == 401:\n",
        "    # Não autorizado (Unauthorized)\n",
        "    print(\"Erro: Não autorizado. Verifique seu certificado digital.\")\n",
        "elif status_code == 404:\n",
        "    # Não encontrado (Not Found)\n",
        "    print(\"CNH não autêntica:\", response_json['message'])\n",
        "elif status_code == 500:\n",
        "    # Erro no servidor (Internal Server Error)\n",
        "    print(\"Erro: Ocorreu um erro no servidor do Denatran.\")\n",
        "else:\n",
        "    # Outros erros\n",
        "    print(f\"Erro na requisição: {status_code} - {response_json.get('message', 'Erro desconhecido')}\")\n",
        "\n",
        "if status_code == 200:\n",
        "  # Configurar o modelo com o Gemini 1.0 PRO\n",
        "    model = genai.GenerativeModel(model_name=\"gemini-pro\",\n",
        "                              generation_config=generation_config,\n",
        "                              safety_settings=safety_settings)\n",
        "  # Requisição ao Denatran bem-sucedida\n",
        "data_condutor = response_json\n",
        "\n",
        "# Dados do condutor já estão no dicionário data_condutor\n",
        "json_text = json.dumps(data_condutor, indent=4)  # Convertendo o dicionário em string JSON formatada\n",
        "\n",
        "prompt_gemini = f\"\"\"\n",
        "    Você é um assistente de IA que gera resumos de dados de condutores.\n",
        "\n",
        "    Aqui está um JSON contendo dados de um condutor do Denatran:\n",
        "    {json_text}\n",
        "\n",
        "    Gere um resumo informativo e objetivo contendo as informações mais relevantes sobre o condutor.\n",
        "    \"\"\"\n",
        "\n",
        "    # Enviar o prompt diretamente\n",
        "response_gemini = model.generate_content({prompt_gemini})\n",
        "\n",
        "    # Exibindo o resultado\n",
        "to_markdown(response_gemini.text)"
      ],
      "metadata": {
        "colab": {
          "base_uri": "https://localhost:8080/",
          "height": 80
        },
        "id": "gl-WbeBLm6XW",
        "outputId": "55ec443d-8223-49b5-897b-874f996ff7cd"
      },
      "execution_count": 38,
      "outputs": [
        {
          "output_type": "stream",
          "name": "stdout",
          "text": [
            "CNH não autêntica: Condutor não encontrado na base de dados do Denatran.\n"
          ]
        },
        {
          "output_type": "execute_result",
          "data": {
            "text/plain": [
              "<IPython.core.display.Markdown object>"
            ],
            "text/markdown": "> Não foi possível localizar o condutor na base de dados do Denatran."
          },
          "metadata": {},
          "execution_count": 38
        }
      ]
    }
  ]
}